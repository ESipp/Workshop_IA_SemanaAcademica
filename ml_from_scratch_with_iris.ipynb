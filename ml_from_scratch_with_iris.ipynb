{
  "nbformat": 4,
  "nbformat_minor": 0,
  "metadata": {
    "colab": {
      "name": "ml-from-scratch-with-iris.ipynb",
      "version": "0.3.2",
      "provenance": []
    },
    "kernelspec": {
      "name": "python3",
      "display_name": "Python 3",
      "language": "python"
    }
  },
  "cells": [
    {
      "metadata": {
        "id": "XRggxJ-XLrwd",
        "colab_type": "text"
      },
      "cell_type": "markdown",
      "source": [
        "Exemplo retirado de: [Kaggle - ML from Scratch with IRIS](https://www.kaggle.com/ash316/ml-from-scratch-with-iris)"
      ]
    },
    {
      "metadata": {
        "id": "7GTrtSb7LpgB",
        "colab_type": "code",
        "colab": {}
      },
      "cell_type": "code",
      "source": [
        "# Manipulação de dados\n",
        "import numpy as np\n",
        "import pandas as pd\n",
        "\n",
        "# Para gráficos\n",
        "import seaborn as sns\n",
        "import matplotlib.pyplot as plt\n",
        "\n",
        "# Conjunto de dados\n",
        "from sklearn import datasets"
      ],
      "execution_count": 0,
      "outputs": []
    },
    {
      "metadata": {
        "_uuid": "db8aed63638fcf4833c050541cc0fe5a0b756670",
        "_cell_guid": "ced2723b-e83e-6aa0-4ffb-9ace2cc4a5e3",
        "_execution_state": "idle",
        "id": "9neHSHuBDWxp",
        "colab_type": "code",
        "colab": {}
      },
      "cell_type": "code",
      "source": [
        "iris = datasets.load_iris()"
      ],
      "execution_count": 0,
      "outputs": []
    },
    {
      "metadata": {
        "id": "1Ov3B_dtFFv2",
        "colab_type": "code",
        "colab": {
          "base_uri": "https://localhost:8080/",
          "height": 35
        },
        "outputId": "40ab0c7c-f486-445d-9f0e-5ec8461c1229"
      },
      "cell_type": "code",
      "source": [
        "list(set(iris.target.tolist()))"
      ],
      "execution_count": 31,
      "outputs": [
        {
          "output_type": "execute_result",
          "data": {
            "text/plain": [
              "[0, 1, 2]"
            ]
          },
          "metadata": {
            "tags": []
          },
          "execution_count": 31
        }
      ]
    },
    {
      "metadata": {
        "id": "WynAotAwFYDv",
        "colab_type": "code",
        "colab": {
          "base_uri": "https://localhost:8080/",
          "height": 35
        },
        "outputId": "0c63d749-fa0a-4c0d-dad1-480f3047be70"
      },
      "cell_type": "code",
      "source": [
        "iris.target_names.tolist()"
      ],
      "execution_count": 34,
      "outputs": [
        {
          "output_type": "execute_result",
          "data": {
            "text/plain": [
              "array(['setosa', 'versicolor', 'virginica'], dtype='<U10')"
            ]
          },
          "metadata": {
            "tags": []
          },
          "execution_count": 34
        }
      ]
    },
    {
      "metadata": {
        "id": "7p1UBPo1Fj07",
        "colab_type": "code",
        "colab": {}
      },
      "cell_type": "code",
      "source": [
        ""
      ],
      "execution_count": 0,
      "outputs": []
    },
    {
      "metadata": {
        "id": "8h190NZFEFs2",
        "colab_type": "code",
        "colab": {}
      },
      "cell_type": "code",
      "source": [
        "iris = pd.DataFrame(data= np.c_[iris['data'], iris['target']], columns= iris['feature_names'] + ['target'])\n",
        "iris['target'] = iris['target'].astype(np.int64).astype(str).map({'0':'setosa', '1':'versicolor', '2':'virginica'})\n",
        "iris.columns = ['SepalLengthCm', 'SepalWidthCm', 'PetalLengthCm','PetalWidthCm', 'Species']"
      ],
      "execution_count": 0,
      "outputs": []
    },
    {
      "metadata": {
        "_uuid": "9a89db0e5a9d3e5cd7cecf06e16dbf1b6f8d3542",
        "_cell_guid": "ca50ed92-15c7-f9f6-b371-f18393505167",
        "_execution_state": "idle",
        "id": "bYiBawECDWxv",
        "colab_type": "code",
        "colab": {
          "base_uri": "https://localhost:8080/",
          "height": 112
        },
        "outputId": "8af526c3-4135-4a74-8ed5-fd2f052efe83"
      },
      "cell_type": "code",
      "source": [
        "iris.head(2) #imprime as duas primeiras linhas do conjunto"
      ],
      "execution_count": 52,
      "outputs": [
        {
          "output_type": "execute_result",
          "data": {
            "text/html": [
              "<div>\n",
              "<style scoped>\n",
              "    .dataframe tbody tr th:only-of-type {\n",
              "        vertical-align: middle;\n",
              "    }\n",
              "\n",
              "    .dataframe tbody tr th {\n",
              "        vertical-align: top;\n",
              "    }\n",
              "\n",
              "    .dataframe thead th {\n",
              "        text-align: right;\n",
              "    }\n",
              "</style>\n",
              "<table border=\"1\" class=\"dataframe\">\n",
              "  <thead>\n",
              "    <tr style=\"text-align: right;\">\n",
              "      <th></th>\n",
              "      <th>SepalLengthCm</th>\n",
              "      <th>SepalWidthCm</th>\n",
              "      <th>PetalLengthCm</th>\n",
              "      <th>PetalWidthCm</th>\n",
              "      <th>Species</th>\n",
              "    </tr>\n",
              "  </thead>\n",
              "  <tbody>\n",
              "    <tr>\n",
              "      <th>0</th>\n",
              "      <td>5.1</td>\n",
              "      <td>3.5</td>\n",
              "      <td>1.4</td>\n",
              "      <td>0.2</td>\n",
              "      <td>setosa</td>\n",
              "    </tr>\n",
              "    <tr>\n",
              "      <th>1</th>\n",
              "      <td>4.9</td>\n",
              "      <td>3.0</td>\n",
              "      <td>1.4</td>\n",
              "      <td>0.2</td>\n",
              "      <td>setosa</td>\n",
              "    </tr>\n",
              "  </tbody>\n",
              "</table>\n",
              "</div>"
            ],
            "text/plain": [
              "   SepalLengthCm  SepalWidthCm  PetalLengthCm  PetalWidthCm Species\n",
              "0            5.1           3.5            1.4           0.2  setosa\n",
              "1            4.9           3.0            1.4           0.2  setosa"
            ]
          },
          "metadata": {
            "tags": []
          },
          "execution_count": 52
        }
      ]
    },
    {
      "metadata": {
        "_uuid": "46f49d63be72b4eec75da299e355d6dbaa19f65b",
        "_cell_guid": "4f9370f1-0672-0d8c-4f21-c7eeb694042c",
        "_execution_state": "idle",
        "id": "CUDCP_eODWx2",
        "colab_type": "code",
        "colab": {
          "base_uri": "https://localhost:8080/",
          "height": 196
        },
        "outputId": "fb66c481-b89e-4af7-c21c-be8cf9bff3bc"
      },
      "cell_type": "code",
      "source": [
        "iris.info()"
      ],
      "execution_count": 48,
      "outputs": [
        {
          "output_type": "stream",
          "text": [
            "<class 'pandas.core.frame.DataFrame'>\n",
            "RangeIndex: 150 entries, 0 to 149\n",
            "Data columns (total 5 columns):\n",
            "sepal length (cm)    150 non-null float64\n",
            "sepal width (cm)     150 non-null float64\n",
            "petal length (cm)    150 non-null float64\n",
            "petal width (cm)     150 non-null float64\n",
            "target               150 non-null object\n",
            "dtypes: float64(4), object(1)\n",
            "memory usage: 5.9+ KB\n"
          ],
          "name": "stdout"
        }
      ]
    },
    {
      "metadata": {
        "_uuid": "f00690de3343002575e680a83ae395ef0060fe1f",
        "_cell_guid": "a2e19920-d24b-7551-10c4-e1088c8a4324",
        "id": "dkNAn-iVDWyA",
        "colab_type": "text"
      },
      "cell_type": "markdown",
      "source": [
        "## Análise exploratória dos dados ##\n"
      ]
    },
    {
      "metadata": {
        "_uuid": "c9fd2c2b0eb51ada3a4f57eb51023cb080a0d308",
        "_cell_guid": "09a16bf0-067b-8da0-3eed-2014dc8cfec7",
        "_execution_state": "idle",
        "id": "_e9Rm-R7DWyE",
        "colab_type": "code",
        "colab": {
          "base_uri": "https://localhost:8080/",
          "height": 403
        },
        "outputId": "bb146ea1-fbda-4c03-b361-fc95703d0a0a"
      },
      "cell_type": "code",
      "source": [
        "fig = iris[iris.Species=='setosa'].plot(kind='scatter',x='SepalLengthCm',y='SepalWidthCm',color='orange', label='Setosa')\n",
        "iris[iris.Species=='versicolor'].plot(kind='scatter',x='SepalLengthCm',y='SepalWidthCm',color='blue', label='versicolor',ax=fig)\n",
        "iris[iris.Species=='virginica'].plot(kind='scatter',x='SepalLengthCm',y='SepalWidthCm',color='green', label='virginica', ax=fig)\n",
        "fig.set_xlabel(\"Sepal Length\")\n",
        "fig.set_ylabel(\"Sepal Width\")\n",
        "fig.set_title(\"Sepal Length VS Width\")\n",
        "fig=plt.gcf()\n",
        "fig.set_size_inches(10,6)\n",
        "plt.show()"
      ],
      "execution_count": 53,
      "outputs": [
        {
          "output_type": "display_data",
          "data": {
            "image/png": "[encoded data removed]",
            "text/plain": [
              "<matplotlib.figure.Figure at 0x7f84201faeb8>"
            ]
          },
          "metadata": {
            "tags": []
          }
        }
      ]
    },
    {
      "metadata": {
        "_uuid": "d0793e117fd202f679b6ecb1239e0ab0a8cfd137",
        "_cell_guid": "e853b9fa-a1db-cdc8-1f8f-0f5f2f2d1ab6",
        "id": "42ZEBYjWDWyI",
        "colab_type": "text"
      },
      "cell_type": "markdown",
      "source": [
        "O gráfico acima mostra a relação entre o comprimento e a largura da sépala. Agora vamos verificar a relação entre o comprimento e a largura da pétala."
      ]
    },
    {
      "metadata": {
        "_uuid": "16a42e3a6615e48f7b8ed0a6dbb380de74dcd2c8",
        "_cell_guid": "ea5060b8-4067-cf46-99d6-a27be10a7e18",
        "_execution_state": "idle",
        "id": "bGcZh-EsDWyN",
        "colab_type": "code",
        "colab": {
          "base_uri": "https://localhost:8080/",
          "height": 403
        },
        "outputId": "7417f466-1363-4eb0-9770-50c3d85fa5b9"
      },
      "cell_type": "code",
      "source": [
        "fig = iris[iris.Species=='setosa'].plot.scatter(x='PetalLengthCm',y='PetalWidthCm',color='orange', label='Setosa')\n",
        "iris[iris.Species=='versicolor'].plot.scatter(x='PetalLengthCm',y='PetalWidthCm',color='blue', label='versicolor',ax=fig)\n",
        "iris[iris.Species=='virginica'].plot.scatter(x='PetalLengthCm',y='PetalWidthCm',color='green', label='virginica', ax=fig)\n",
        "fig.set_xlabel(\"Petal Length\")\n",
        "fig.set_ylabel(\"Petal Width\")\n",
        "fig.set_title(\" Petal Length VS Width\")\n",
        "fig=plt.gcf()\n",
        "fig.set_size_inches(10,6)\n",
        "plt.show()"
      ],
      "execution_count": 54,
      "outputs": [
        {
          "output_type": "display_data",
          "data": {
            "image/png": "[encoded data removed]",
            "text/plain": [
              "<matplotlib.figure.Figure at 0x7f841bfcad68>"
            ]
          },
          "metadata": {
            "tags": []
          }
        }
      ]
    },
    {
      "metadata": {
        "_uuid": "dd90c7e433f42fea8e5836c91959429710491347",
        "_cell_guid": "3068e91a-2455-f7ae-b1d0-a2114b78ea62",
        "id": "38J9iiwsDWyU",
        "colab_type": "text"
      },
      "cell_type": "markdown",
      "source": [
        "Como podemos ver, as características da Petal estão dando uma melhor divisão de cluster em comparação com as características do Sepal. Esta é uma indicação de que as pétalas podem ajudar em melhores e precisas previsões sobre o Sepal. Vamos verificar isso depois."
      ]
    },
    {
      "metadata": {
        "_uuid": "aaa439a16175b442a42e845060b7fe1bd2d246f0",
        "_cell_guid": "ac6bb577-9975-39d5-aa20-376e574e703c",
        "id": "ALxcBENADWyV",
        "colab_type": "text"
      },
      "cell_type": "markdown",
      "source": [
        "### Agora vamos ver como o comprimento e a largura são distribuídos"
      ]
    },
    {
      "metadata": {
        "_uuid": "0ca23638e6e067ffd7501552f346674646e3e1d2",
        "_cell_guid": "d818068d-5110-c64e-ec6e-92bda44a9723",
        "_execution_state": "idle",
        "id": "pEpJ6K0nDWyX",
        "colab_type": "code",
        "colab": {
          "base_uri": "https://localhost:8080/",
          "height": 389
        },
        "outputId": "881e16f9-7250-433f-e3b4-3d38528b9693"
      },
      "cell_type": "code",
      "source": [
        "iris.hist(edgecolor='black', linewidth=1.2)\n",
        "fig=plt.gcf()\n",
        "fig.set_size_inches(12,6)\n",
        "plt.show()"
      ],
      "execution_count": 55,
      "outputs": [
        {
          "output_type": "display_data",
          "data": {
            "image/png": "[encoded data removed]",
            "text/plain": [
              "<matplotlib.figure.Figure at 0x7f841e8ae860>"
            ]
          },
          "metadata": {
            "tags": []
          }
        }
      ]
    },
    {
      "metadata": {
        "_uuid": "b45c7ca882bf32568268465f041282cfcd0e6fe9",
        "_cell_guid": "4df5f118-994c-4d7d-2fa1-b8a1ed1a82ec",
        "id": "H3C4HnYGDWyl",
        "colab_type": "text"
      },
      "cell_type": "markdown",
      "source": [
        "### Agora, o problema em questão é um problema de classificação. Assim, usaremos os algoritmos de classificação para construir um modelo.\n",
        "** Classificação** : as amostras pertencem a duas ou mais classes e queremos aprender com dados já rotulados como prever a classe de dados não rotulados\n",
        "\n",
        "** Regressão ** : se a saída desejada consiste em uma ou mais variáveis contínuas, a tarefa é chamada de regressão. Um exemplo de um problema de regressão seria a previsão do comprimento de um salmão em função de sua idade e peso."
      ]
    },
    {
      "metadata": {
        "_uuid": "a0436d5a5baa07027fdc10ad918d776e7fe948f4",
        "_cell_guid": "b772ca1b-fd3c-d27a-b787-926c2df4e354",
        "id": "dj11TauRDWyp",
        "colab_type": "text"
      },
      "cell_type": "markdown",
      "source": [
        "Antes de começarmos, precisamos limpar algumas notações de ML.\n",
        "\n",
        "** atributos ** -> Um atributo é uma propriedade de uma instância que pode ser usada para determinar sua classificação. No conjunto de dados a seguir, os atributos são o comprimento e a largura da pétala e da sépala. Também é conhecido como ** Recursos **.\n",
        "\n",
        "** classe **, no contexto de aprendizado de máquina é a variável que é ou deve ser a saída. Aqui as variáveis-alvo são as três espécies de flores."
      ]
    },
    {
      "metadata": {
        "_uuid": "2b652b2398f95bacb6286eac49694cd422a54e6a",
        "_cell_guid": "c27e7e16-6083-5b53-cda4-c43cf4c79a67",
        "_execution_state": "idle",
        "id": "tCKnBqXvDWyr",
        "colab_type": "code",
        "colab": {}
      },
      "cell_type": "code",
      "source": [
        "from sklearn.linear_model import LogisticRegression  # Logistic Regression\n",
        "from sklearn.cross_validation import train_test_split # Para dividir o conjunto de treinamento e teste\n",
        "from sklearn.neighbors import KNeighborsClassifier  # K nearest neighbours\n",
        "from sklearn import svm  # Para o algoritmo Support Vector Machine (SVM) Algorithm\n",
        "from sklearn import metrics # Para verificar as métricas\n",
        "from sklearn.tree import DecisionTreeClassifier # para o algoritmo de árvores de decisão\n",
        "from sklearn.neural_network import MLPClassifier # Para as redes neurais"
      ],
      "execution_count": 0,
      "outputs": []
    },
    {
      "metadata": {
        "_uuid": "15457e7fa8ff19b86c2858c365f11fa289fca723",
        "_cell_guid": "d967de9a-df34-bc84-899b-28b8804f7d58",
        "_execution_state": "idle",
        "id": "iIpP-ATNDWyx",
        "colab_type": "code",
        "colab": {
          "base_uri": "https://localhost:8080/",
          "height": 35
        },
        "outputId": "cc2b1826-a5eb-4ccc-cbd4-b183857db3c3"
      },
      "cell_type": "code",
      "source": [
        "iris.shape #get the shape of the dataset"
      ],
      "execution_count": 60,
      "outputs": [
        {
          "output_type": "execute_result",
          "data": {
            "text/plain": [
              "(150, 5)"
            ]
          },
          "metadata": {
            "tags": []
          },
          "execution_count": 60
        }
      ]
    },
    {
      "metadata": {
        "_uuid": "a09827c482cacd56f2040afdb162d46270551512",
        "_cell_guid": "21c81da1-f5f8-8d86-6c23-76928d0ec387",
        "id": "iIyRjopIDWy0",
        "colab_type": "text"
      },
      "cell_type": "markdown",
      "source": [
        "Agora, quando treinamos qualquer algoritmo, o número de recursos e sua correlação desempenham um papel importante. Se houver recursos e muitos dos recursos forem altamente correlacionados, o treinamento de um algoritmo com todos os recursos reduzirá a precisão. Assim, a seleção de recursos deve ser feita com cuidado. Este conjunto de dados tem menos recursos, mas ainda veremos a correlação."
      ]
    },
    {
      "metadata": {
        "_uuid": "86e4d3c42eeec9d2df63d5f60c94e2c30b65ebd7",
        "_cell_guid": "91f4a3b2-6e38-4d41-9ba0-52c7f43a581c",
        "_execution_state": "idle",
        "id": "KO3fO964DWy1",
        "colab_type": "code",
        "colab": {
          "base_uri": "https://localhost:8080/",
          "height": 265
        },
        "outputId": "4c7887e5-7f4f-41d3-c7a2-987cff3bac59"
      },
      "cell_type": "code",
      "source": [
        "plt.figure(figsize=(7,4)) \n",
        "sns.heatmap(iris.corr(),annot=True,cmap='cubehelix_r') #draws  heatmap with input as the correlation matrix calculted by(iris.corr())\n",
        "plt.show()"
      ],
      "execution_count": 59,
      "outputs": [
        {
          "output_type": "display_data",
          "data": {
            "image/png": "[encoded data removed]",
            "text/plain": [
              "<matplotlib.figure.Figure at 0x7f8417ef9668>"
            ]
          },
          "metadata": {
            "tags": []
          }
        }
      ]
    },
    {
      "metadata": {
        "_uuid": "a2456971023a8d78416ae87fd1b09173da1e357e",
        "_cell_guid": "45543c97-83ae-392c-183c-24d118985163",
        "id": "lHyg68hWDWy5",
        "colab_type": "text"
      },
      "cell_type": "markdown",
      "source": [
        "** Observação ---> **\n",
        "\n",
        "A largura e o comprimento do Sepal não estão correlacionados\n",
        "A largura e o comprimento da pétala são altamente correlacionados\n",
        "\n",
        "Usaremos todos os recursos para treinar o algoritmo e verificar a precisão.\n",
        "\n",
        "Em seguida, usaremos 1 Recurso Pétala e 1 Recurso Sepal para verificar a precisão do algoritmo, pois estamos usando apenas 2 recursos que não estão correlacionados. Assim, podemos ter uma variação no conjunto de dados que pode ajudar na melhor precisão. Nós vamos verificar isso mais tarde."
      ]
    },
    {
      "metadata": {
        "_uuid": "362675378d1f8d7892597877aa9dbd1caa20c0ff",
        "_cell_guid": "74afdd84-2b1f-b6e3-b9e2-6c076e44cb10",
        "id": "WV4l3JH0DWy7",
        "colab_type": "text"
      },
      "cell_type": "markdown",
      "source": [
        "### Passos a serem seguidos ao aplicar um algoritmo\n",
        "\n",
        "  1. Divida o conjunto de dados em conjunto de dados de treinamento e teste. O conjunto de dados de teste é geralmente menor do que um treinamento, pois ajudará a treinar melhor o modelo.\n",
        "  2. Selecione qualquer algoritmo baseado no problema (classificação ou regressão), o que você achar que pode ser bom.\n",
        "  3. Em seguida, passe o conjunto de dados de treinamento para o algoritmo para treiná-lo. Nós usamos o método **. Fit () **\n",
        "  4. Em seguida, passe os dados de teste para o algoritmo treinado para prever o resultado. Nós usamos o método **. Predict () **.\n",
        "  5. Em seguida, verificamos a precisão ** passando o resultado previsto e a saída real ** para o modelo."
      ]
    },
    {
      "metadata": {
        "_uuid": "ffa8b5a66eb4651f46672b7263774dbcf125ecbf",
        "_cell_guid": "2de179a6-ea22-00ff-8756-63d3aef6bd2d",
        "id": "7wNuJdj_DWzB",
        "colab_type": "text"
      },
      "cell_type": "markdown",
      "source": [
        "### Dividindo os dados no conjunto de dados de treinamento e teste"
      ]
    },
    {
      "metadata": {
        "_uuid": "87bc90a957a8defb5e24b886b641fb0a9aa5fc42",
        "_cell_guid": "a24c3ab9-8c7d-2a78-113f-d337c5c61f09",
        "_execution_state": "idle",
        "id": "pqRXJoqbDWzH",
        "colab_type": "code",
        "colab": {
          "base_uri": "https://localhost:8080/",
          "height": 53
        },
        "outputId": "687010be-443d-4d05-f484-987b04ab4aed"
      },
      "cell_type": "code",
      "source": [
        "train, test = train_test_split(iris, test_size = 0.3)# divide o conjunto de dados com 70% para treinamento e 30% para teste\n",
        "print(train.shape)\n",
        "print(test.shape)"
      ],
      "execution_count": 61,
      "outputs": [
        {
          "output_type": "stream",
          "text": [
            "(105, 5)\n",
            "(45, 5)\n"
          ],
          "name": "stdout"
        }
      ]
    },
    {
      "metadata": {
        "_uuid": "7a64738b8be79ad6b0f4899e985d3ab5e475f9e1",
        "_cell_guid": "54dd7ded-5079-fc8c-065b-70bfbfb0b83a",
        "_execution_state": "idle",
        "id": "IG_s4V4sDWzP",
        "colab_type": "code",
        "colab": {}
      },
      "cell_type": "code",
      "source": [
        "selected_columns = ['SepalLengthCm','SepalWidthCm','PetalLengthCm','PetalWidthCm']\n",
        "train_X = train[selected_columns]# seleciona as colunas que serão utilizadas para treinamento e teste\n",
        "train_y=train.Species # A classe ou variável alvo\n",
        "test_X= test[selected_columns] \n",
        "test_y =test.Species   # A classe ou variável alvo"
      ],
      "execution_count": 0,
      "outputs": []
    },
    {
      "metadata": {
        "_uuid": "0b18f7458fd76e93ed4a3932001f6f657cadb647",
        "_cell_guid": "c7d21e9f-8470-9aae-51ef-feea2cec6b1c",
        "id": "Q1qh8CPvDWzX",
        "colab_type": "text"
      },
      "cell_type": "markdown",
      "source": [
        "Vamos verificar o conjunto de dados de trem e de teste"
      ]
    },
    {
      "metadata": {
        "_uuid": "8fa3e8f9f4ba0b27796008dd998c41670f1ffd95",
        "_cell_guid": "2cf23cff-74d0-b15e-87a9-5ed72f543380",
        "_execution_state": "idle",
        "id": "Jt6HzzoIDWzZ",
        "colab_type": "code",
        "colab": {
          "base_uri": "https://localhost:8080/",
          "height": 112
        },
        "outputId": "7220e895-a253-41af-ac22-a451c74ec0f0"
      },
      "cell_type": "code",
      "source": [
        "train_X.head(2)"
      ],
      "execution_count": 63,
      "outputs": [
        {
          "output_type": "execute_result",
          "data": {
            "text/html": [
              "<div>\n",
              "<style scoped>\n",
              "    .dataframe tbody tr th:only-of-type {\n",
              "        vertical-align: middle;\n",
              "    }\n",
              "\n",
              "    .dataframe tbody tr th {\n",
              "        vertical-align: top;\n",
              "    }\n",
              "\n",
              "    .dataframe thead th {\n",
              "        text-align: right;\n",
              "    }\n",
              "</style>\n",
              "<table border=\"1\" class=\"dataframe\">\n",
              "  <thead>\n",
              "    <tr style=\"text-align: right;\">\n",
              "      <th></th>\n",
              "      <th>SepalLengthCm</th>\n",
              "      <th>SepalWidthCm</th>\n",
              "      <th>PetalLengthCm</th>\n",
              "      <th>PetalWidthCm</th>\n",
              "    </tr>\n",
              "  </thead>\n",
              "  <tbody>\n",
              "    <tr>\n",
              "      <th>114</th>\n",
              "      <td>5.8</td>\n",
              "      <td>2.8</td>\n",
              "      <td>5.1</td>\n",
              "      <td>2.4</td>\n",
              "    </tr>\n",
              "    <tr>\n",
              "      <th>92</th>\n",
              "      <td>5.8</td>\n",
              "      <td>2.6</td>\n",
              "      <td>4.0</td>\n",
              "      <td>1.2</td>\n",
              "    </tr>\n",
              "  </tbody>\n",
              "</table>\n",
              "</div>"
            ],
            "text/plain": [
              "     SepalLengthCm  SepalWidthCm  PetalLengthCm  PetalWidthCm\n",
              "114            5.8           2.8            5.1           2.4\n",
              "92             5.8           2.6            4.0           1.2"
            ]
          },
          "metadata": {
            "tags": []
          },
          "execution_count": 63
        }
      ]
    },
    {
      "metadata": {
        "_uuid": "ad5d8e583245a888c9470ef155b7d69a5608d426",
        "_cell_guid": "ce373f86-18ae-095f-8629-5bb8307c1273",
        "_execution_state": "idle",
        "id": "49NFu9rRDWzg",
        "colab_type": "code",
        "colab": {
          "base_uri": "https://localhost:8080/",
          "height": 112
        },
        "outputId": "66f77085-3246-4fe2-a4be-ca1d79575cdc"
      },
      "cell_type": "code",
      "source": [
        "test_X.head(2)"
      ],
      "execution_count": 64,
      "outputs": [
        {
          "output_type": "execute_result",
          "data": {
            "text/html": [
              "<div>\n",
              "<style scoped>\n",
              "    .dataframe tbody tr th:only-of-type {\n",
              "        vertical-align: middle;\n",
              "    }\n",
              "\n",
              "    .dataframe tbody tr th {\n",
              "        vertical-align: top;\n",
              "    }\n",
              "\n",
              "    .dataframe thead th {\n",
              "        text-align: right;\n",
              "    }\n",
              "</style>\n",
              "<table border=\"1\" class=\"dataframe\">\n",
              "  <thead>\n",
              "    <tr style=\"text-align: right;\">\n",
              "      <th></th>\n",
              "      <th>SepalLengthCm</th>\n",
              "      <th>SepalWidthCm</th>\n",
              "      <th>PetalLengthCm</th>\n",
              "      <th>PetalWidthCm</th>\n",
              "    </tr>\n",
              "  </thead>\n",
              "  <tbody>\n",
              "    <tr>\n",
              "      <th>37</th>\n",
              "      <td>4.9</td>\n",
              "      <td>3.1</td>\n",
              "      <td>1.5</td>\n",
              "      <td>0.1</td>\n",
              "    </tr>\n",
              "    <tr>\n",
              "      <th>111</th>\n",
              "      <td>6.4</td>\n",
              "      <td>2.7</td>\n",
              "      <td>5.3</td>\n",
              "      <td>1.9</td>\n",
              "    </tr>\n",
              "  </tbody>\n",
              "</table>\n",
              "</div>"
            ],
            "text/plain": [
              "     SepalLengthCm  SepalWidthCm  PetalLengthCm  PetalWidthCm\n",
              "37             4.9           3.1            1.5           0.1\n",
              "111            6.4           2.7            5.3           1.9"
            ]
          },
          "metadata": {
            "tags": []
          },
          "execution_count": 64
        }
      ]
    },
    {
      "metadata": {
        "_uuid": "6e5039b56dec20594cdd457127d39c0009f5572a",
        "_cell_guid": "60f7b821-4335-e2e5-b868-3d6f850ea927",
        "_execution_state": "idle",
        "id": "ITXaG4L1DWzk",
        "colab_type": "code",
        "colab": {
          "base_uri": "https://localhost:8080/",
          "height": 124
        },
        "outputId": "e9dd2e29-e705-403c-d859-3e4ad29d1a3d"
      },
      "cell_type": "code",
      "source": [
        "train_y.head()  ##output of the training data"
      ],
      "execution_count": 65,
      "outputs": [
        {
          "output_type": "execute_result",
          "data": {
            "text/plain": [
              "114     virginica\n",
              "92     versicolor\n",
              "23         setosa\n",
              "41         setosa\n",
              "143     virginica\n",
              "Name: Species, dtype: object"
            ]
          },
          "metadata": {
            "tags": []
          },
          "execution_count": 65
        }
      ]
    },
    {
      "metadata": {
        "_uuid": "41536ca3ef126cf761c2b8aca8f02ffa407a5996",
        "_cell_guid": "82010322-d6f3-467d-f1da-4cb3fc82d0bd",
        "id": "E9GRemAjDWzp",
        "colab_type": "text"
      },
      "cell_type": "markdown",
      "source": [
        "### Support Vector Machine (SVM)"
      ]
    },
    {
      "metadata": {
        "_uuid": "94ed6a0a8a1acc6c42e37db3e50ab6f9380e17f8",
        "_cell_guid": "be869394-0f6d-f062-dd1f-8d2c68f06104",
        "_execution_state": "idle",
        "id": "BlNTJmEjDWzq",
        "colab_type": "code",
        "colab": {
          "base_uri": "https://localhost:8080/",
          "height": 35
        },
        "outputId": "8f88114c-f9a3-4ce5-cd61-f77c7c0539dd"
      },
      "cell_type": "code",
      "source": [
        "model = svm.SVC()\n",
        "model.fit(train_X,train_y) # nós treinamos o algoritmo com os dados de treinamento e a saída de treinamento\n",
        "prediction=model.predict(test_X) # agora passamos os dados de teste para o algoritmo treinado\n",
        "\n",
        "# Para verificar o desempenho, é necessário passar a saída obtida pelo modelo e a esperada\n",
        "print('A acurácia do SVM é:',metrics.accuracy_score(prediction,test_y)) # agora nós verificamos a acurácia do algoritmo.\n"
      ],
      "execution_count": 67,
      "outputs": [
        {
          "output_type": "stream",
          "text": [
            "A acurácia do SVM é: 0.9555555555555556\n"
          ],
          "name": "stdout"
        }
      ]
    },
    {
      "metadata": {
        "_uuid": "9e9fb51ffb0823fb9a7459ad0f164e52a800c15a",
        "_cell_guid": "78e50a4b-ea63-c546-a8c4-07f4e4084c27",
        "id": "ft7p6C8yDWzt",
        "colab_type": "text"
      },
      "cell_type": "markdown",
      "source": [
        "SVM está dando uma acurácia muito interessante. Continuaremos a verificar a precisão de diferentes modelos.\n",
        "\n",
        "Agora, seguiremos os mesmos passos acima para treinar vários algoritmos de aprendizado de máquina."
      ]
    },
    {
      "metadata": {
        "_uuid": "a2d76e51ba5e61a1a6f19675295f4405c2633eba",
        "_cell_guid": "35d98035-f0ae-7d10-fe90-ec13865c5a14",
        "id": "rZ5SYI2vDWzu",
        "colab_type": "text"
      },
      "cell_type": "markdown",
      "source": [
        "### Algoritmo de Regressão logistica"
      ]
    },
    {
      "metadata": {
        "_uuid": "2b53cac02465732a986be2463b3f3411ab043716",
        "_cell_guid": "ca772378-d3c4-4c87-ada6-b9d50a383b01",
        "_execution_state": "idle",
        "id": "IJwBbuVpDWzv",
        "colab_type": "code",
        "colab": {
          "base_uri": "https://localhost:8080/",
          "height": 35
        },
        "outputId": "a2432c99-7fdd-4c28-f852-a71c9bb773d7"
      },
      "cell_type": "code",
      "source": [
        "model = LogisticRegression()\n",
        "model.fit(train_X,train_y)\n",
        "prediction=model.predict(test_X)\n",
        "print('A acurácia da regressão logística é:',metrics.accuracy_score(prediction,test_y))"
      ],
      "execution_count": 68,
      "outputs": [
        {
          "output_type": "stream",
          "text": [
            "A acurácia da regressão logística é: 0.9777777777777777\n"
          ],
          "name": "stdout"
        }
      ]
    },
    {
      "metadata": {
        "_uuid": "756183a2d33bfd269b75b11ce7980f7f22925004",
        "_cell_guid": "7dfab2de-ebb7-4864-675c-aafef45db7a1",
        "id": "WsG0c4E6DWz6",
        "colab_type": "text"
      },
      "cell_type": "markdown",
      "source": [
        "### Árvores de decisão"
      ]
    },
    {
      "metadata": {
        "_uuid": "3c8158a18da7910b9ba8c3a5169a3009fb27c84f",
        "_cell_guid": "f918247c-a76b-4c58-5145-1fb0e8ab70b4",
        "_execution_state": "idle",
        "id": "KMMges2IDWz7",
        "colab_type": "code",
        "colab": {
          "base_uri": "https://localhost:8080/",
          "height": 35
        },
        "outputId": "4c77e414-61db-49f2-8605-f007b30f8097"
      },
      "cell_type": "code",
      "source": [
        "model=DecisionTreeClassifier()\n",
        "model.fit(train_X,train_y)\n",
        "prediction=model.predict(test_X)\n",
        "print('A acurácia das árvores de decisão é:',metrics.accuracy_score(prediction,test_y))"
      ],
      "execution_count": 69,
      "outputs": [
        {
          "output_type": "stream",
          "text": [
            "A acurácia das árvores de decisão é: 0.9555555555555556\n"
          ],
          "name": "stdout"
        }
      ]
    },
    {
      "metadata": {
        "_uuid": "3410b37d9410b8d9f0ebd5c6509b3250ed7714c1",
        "_cell_guid": "3e4594d9-5fe6-0568-1fc6-e02975278305",
        "id": "DXnm5jRmDWz9",
        "colab_type": "text"
      },
      "cell_type": "markdown",
      "source": [
        "### K-Nearest Neighbours (KNN)"
      ]
    },
    {
      "metadata": {
        "_uuid": "dda9e73ae95627994e68db9542d769b897d43bec",
        "_cell_guid": "bcd55de7-cfab-c81d-25a8-1db8f0deee94",
        "_execution_state": "idle",
        "id": "689mggaODWz_",
        "colab_type": "code",
        "colab": {
          "base_uri": "https://localhost:8080/",
          "height": 35
        },
        "outputId": "b0bd001a-63fe-4946-cc76-219650c65ddf"
      },
      "cell_type": "code",
      "source": [
        "model=KNeighborsClassifier(n_neighbors=3) #this examines 3 neighbours for putting the new data into a class\n",
        "model.fit(train_X,train_y)\n",
        "prediction=model.predict(test_X)\n",
        "print('A acurácia do KNN é:',metrics.accuracy_score(prediction,test_y))"
      ],
      "execution_count": 70,
      "outputs": [
        {
          "output_type": "stream",
          "text": [
            "A acurácia do KNN é: 0.9555555555555556\n"
          ],
          "name": "stdout"
        }
      ]
    },
    {
      "metadata": {
        "id": "VzqASI9EP3sh",
        "colab_type": "text"
      },
      "cell_type": "markdown",
      "source": [
        "## Redes neurais ##"
      ]
    },
    {
      "metadata": {
        "id": "smWCNxv2P2Su",
        "colab_type": "code",
        "colab": {
          "base_uri": "https://localhost:8080/",
          "height": 35
        },
        "outputId": "8eebd482-077b-4274-99ff-5aeea69e150c"
      },
      "cell_type": "code",
      "source": [
        "model=MLPClassifier(\n",
        "    max_iter = 1000,\n",
        "    momentum = 0.25,\n",
        "    learning_rate_init = 0.18,\n",
        "    hidden_layer_sizes = (12,),\n",
        "    solver = 'adam',\n",
        "    learning_rate = 'invscaling',\n",
        "    activation = 'logistic',\n",
        "    early_stopping = False,\n",
        "    shuffle = True,\n",
        "    batch_size = 10,\n",
        "    random_state = 2567\n",
        ")\n",
        "model.fit(train_X,train_y.map({'setosa':0,'versicolor':1,'virginica':2}))\n",
        "prediction=model.predict(test_X)\n",
        "print('A acurácia da rede neural é:',metrics.accuracy_score(prediction,test_y.map({'setosa':0,'versicolor':1,'virginica':2})))"
      ],
      "execution_count": 86,
      "outputs": [
        {
          "output_type": "stream",
          "text": [
            "A acurácia da rede neural é: 0.9777777777777777\n"
          ],
          "name": "stdout"
        }
      ]
    },
    {
      "metadata": {
        "_uuid": "453bb5a7b5ee35d4dcbac52b6ee717d61d578c7f",
        "_cell_guid": "752b273a-43f6-9905-c42b-0a3003ad204c",
        "id": "mEyOcrI1DW0m",
        "colab_type": "text"
      },
      "cell_type": "markdown",
      "source": [
        "### Observações:\n",
        "\n",
        "  - Usar Pétalas sobre Sepal para treinar os dados dá uma precisão muito melhor.\n",
        "  - Isso era esperado, como vimos no mapa de calor acima, que a correlação entre a Largura Sépala e o Comprimento era muito baixa, enquanto a correlação entre Largura e Comprimento da Pétala era muito alta."
      ]
    },
    {
      "metadata": {
        "_uuid": "0f45b63a88d023709700b04fd14605ae53c94550",
        "_cell_guid": "6e6e1e3a-07aa-201a-b959-1d3619103325",
        "id": "GXyQkRgGDW0m",
        "colab_type": "text"
      },
      "cell_type": "markdown",
      "source": [
        "Assim, acabamos de implementar alguns dos Machine Learning comuns. Como o conjunto de dados é pequeno, com poucos recursos, não abordei alguns conceitos, pois eles seriam relevantes quando tivéssemos muitos recursos."
      ]
    },
    {
      "metadata": {
        "id": "UluNDVGaJ7V2",
        "colab_type": "text"
      },
      "cell_type": "markdown",
      "source": [
        "## MÃO NA MASSA ##"
      ]
    },
    {
      "metadata": {
        "id": "Mz3SwJ7WKMtK",
        "colab_type": "text"
      },
      "cell_type": "markdown",
      "source": [
        "Experimente novos atributos e parametros para os algoritmos demonstrados.\n",
        "Quem conseguirá um melhor resultado?"
      ]
    }
  ]
}